{
 "cells": [
  {
   "cell_type": "markdown",
   "id": "b59baec9",
   "metadata": {},
   "source": [
    "# Assignment 2 - I"
   ]
  },
  {
   "cell_type": "markdown",
   "id": "453d4667",
   "metadata": {},
   "source": [
    "### importing and installing libraries"
   ]
  },
  {
   "cell_type": "code",
   "execution_count": null,
   "id": "cafa55b6",
   "metadata": {},
   "outputs": [],
   "source": []
  }
 ],
 "metadata": {
  "kernelspec": {
   "display_name": "Python 3 (ipykernel)",
   "language": "python",
   "name": "python3"
  },
  "language_info": {
   "codemirror_mode": {
    "name": "ipython",
    "version": 3
   },
   "file_extension": ".py",
   "mimetype": "text/x-python",
   "name": "python",
   "nbconvert_exporter": "python",
   "pygments_lexer": "ipython3",
   "version": "3.9.7"
  }
 },
 "nbformat": 4,
 "nbformat_minor": 5
}
